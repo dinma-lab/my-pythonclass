{
 "cells": [
  {
   "cell_type": "code",
   "execution_count": 1,
   "metadata": {},
   "outputs": [],
   "source": [
    "###write a program that will accept the values : 3,4,5,6,2,4,1,7,8,9,11,4,5,7 and calculate the:\n",
    "#a. mean, b. mode, c. median, d. std., e. min, f. max."
   ]
  },
  {
   "cell_type": "code",
   "execution_count": 2,
   "metadata": {},
   "outputs": [
    {
     "name": "stdout",
     "output_type": "stream",
     "text": [
      "sum = 76\n",
      "total number of items 14\n"
     ]
    }
   ],
   "source": [
    "data = [3,4,5,6,7,8,9,4,1,4,2,5,7,11]\n",
    "\n",
    "#sum\n",
    "sum = 0\n",
    "counter = 0\n",
    "\n",
    "for item in data:\n",
    "    sum += item # x = x + item\n",
    "    counter += 1\n",
    "    \n",
    "print(\"sum =\", sum)\n",
    "print(\"total number of items\", counter)"
   ]
  },
  {
   "cell_type": "code",
   "execution_count": 3,
   "metadata": {},
   "outputs": [
    {
     "name": "stdout",
     "output_type": "stream",
     "text": [
      "mean = 5.428571428571429\n"
     ]
    }
   ],
   "source": [
    "#mean\n",
    "\n",
    "mean = sum/counter\n",
    "print(\"mean =\", mean)"
   ]
  },
  {
   "cell_type": "code",
   "execution_count": 4,
   "metadata": {},
   "outputs": [
    {
     "name": "stdout",
     "output_type": "stream",
     "text": [
      "[1, 2, 3, 4, 4, 4, 5, 5, 6, 7, 7, 8, 9, 11]\n",
      "4\n",
      "3\n"
     ]
    }
   ],
   "source": [
    "#mode\n",
    "\n",
    "#sort data\n",
    "data.sort()\n",
    "print(data)\n",
    "\n",
    "mode_count = 0\n",
    "\n",
    "for item in data:\n",
    "    if data.count(item) > mode_count:\n",
    "        mode_count = data.count(item)\n",
    "        \n",
    "        mode = item\n",
    "        \n",
    "print(mode)\n",
    "print(mode_count)"
   ]
  },
  {
   "cell_type": "code",
   "execution_count": 5,
   "metadata": {},
   "outputs": [
    {
     "name": "stdout",
     "output_type": "stream",
     "text": [
      "median 5.0\n"
     ]
    }
   ],
   "source": [
    "#median\n",
    "\n",
    "median = (data[6] + data[7])/2\n",
    "print(\"median\", median)"
   ]
  },
  {
   "cell_type": "code",
   "execution_count": 6,
   "metadata": {},
   "outputs": [
    {
     "name": "stdout",
     "output_type": "stream",
     "text": [
      "deviation of x =  19.612244897959187\n",
      "deviation of x =  31.367346938775515\n",
      "deviation of x =  37.26530612244898\n",
      "deviation of x =  39.30612244897959\n",
      "deviation of x =  41.3469387755102\n",
      "deviation of x =  43.38775510204081\n",
      "deviation of x =  43.57142857142857\n",
      "deviation of x =  43.755102040816325\n",
      "deviation of x =  44.08163265306122\n",
      "deviation of x =  46.55102040816326\n",
      "deviation of x =  49.0204081632653\n",
      "deviation of x =  55.63265306122448\n",
      "deviation of x =  68.38775510204081\n",
      "deviation of x =  99.42857142857142\n",
      "standard deviation =  2.665\n"
     ]
    }
   ],
   "source": [
    "#standard deviation\n",
    "\n",
    "dev = 0\n",
    "\n",
    "for item in data:\n",
    "    dev += (item - mean) ** 2\n",
    "    print(\"deviation of x = \", dev)\n",
    "    \n",
    "std = (dev/counter) ** 0.5\n",
    "    \n",
    "print(\"standard deviation = \", round(std,3))"
   ]
  },
  {
   "cell_type": "code",
   "execution_count": 1,
   "metadata": {},
   "outputs": [
    {
     "name": "stdout",
     "output_type": "stream",
     "text": [
      "1\n",
      "11\n"
     ]
    }
   ],
   "source": [
    "#min and max.\n",
    "\n",
    "data = [3,4,5,6,7,8,9,4,1,4,2,5,7,11]\n",
    "\n",
    "minimum_values = min(data)\n",
    "maximum_values = max(data)\n",
    "\n",
    "print(minimum_values)\n",
    "print(maximum_values)"
   ]
  },
  {
   "cell_type": "code",
   "execution_count": null,
   "metadata": {},
   "outputs": [],
   "source": []
  }
 ],
 "metadata": {
  "kernelspec": {
   "display_name": "Python 3",
   "language": "python",
   "name": "python3"
  },
  "language_info": {
   "codemirror_mode": {
    "name": "ipython",
    "version": 3
   },
   "file_extension": ".py",
   "mimetype": "text/x-python",
   "name": "python",
   "nbconvert_exporter": "python",
   "pygments_lexer": "ipython3",
   "version": "3.7.3"
  }
 },
 "nbformat": 4,
 "nbformat_minor": 2
}
