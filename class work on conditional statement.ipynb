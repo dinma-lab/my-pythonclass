{
 "cells": [
  {
   "cell_type": "markdown",
   "metadata": {},
   "source": [
    "### Class work\n",
    "\n",
    "1. A store charges $12 per item if you buy less than 10 items. If you buy between \n",
    "10 and 99 items, the cost is $10 per item. If you buy 100 or more items, \n",
    "the cost is $7 per item. Write a program that asks the user how many items \n",
    "they are buying and prints the total cost.\n",
    "\n",
    "2. Write a program that asks the user how many credits they have taken. If they have taken 23\n",
    "or less, print that the student is a freshman. If they have taken between 24 and 53, \n",
    "print that they are a sophomore. The range for juniors is 54 to 83, and for\n",
    " seniors it is 84 and over.\n",
    " \n",
    "3. A year is a leap year if it is divisible by 4, except that years divisible \n",
    " by 100 are not leap years unless they are also divisible by 400. Ask the user to enter a year, and, determine if it is a leap year or not."
   ]
  },
  {
   "cell_type": "code",
   "execution_count": 22,
   "metadata": {},
   "outputs": [
    {
     "name": "stdout",
     "output_type": "stream",
     "text": [
      "how many items are you buying100\n",
      "total cost of item is $ 700\n"
     ]
    }
   ],
   "source": [
    "#question 1.\n",
    "\n",
    "a = int(input(\"how many items are you buying\"))\n",
    "\n",
    "if a <= 10:\n",
    "    print(\"total cost of item is $\", 12 * a)\n",
    "elif a >= 10 and a <= 99:\n",
    "    print(\"total cost of item is $\", 10 * a)\n",
    "elif a >= 100:\n",
    "    print(\"total cost of item is $\", 7 * a)\n",
    "else:\n",
    "    print(\"i dont know what you want\")"
   ]
  },
  {
   "cell_type": "code",
   "execution_count": 25,
   "metadata": {
    "scrolled": true
   },
   "outputs": [
    {
     "name": "stdout",
     "output_type": "stream",
     "text": [
      "how many credits have you taken85\n",
      "you are a senior\n"
     ]
    }
   ],
   "source": [
    "## Write a program that asks the user how many credits they have taken. If they have taken 23or less, print that the student is a freshman. If they have taken between 24 and 53, print that they are a sophomore. The range for juniors is 54 to 83, and for seniors it is 84 and over.\n",
    "\n",
    "u = int(input(\"how many credits have you taken\"))\n",
    "\n",
    "if u <= 23:\n",
    "    print(\"you are freshman\")\n",
    "elif u >= 23 and u <= 53:\n",
    "    print(\"you are sophomore\")\n",
    "elif u >= 53 and u <= 83:\n",
    "    print(\"you are a junior\")\n",
    "elif u >= 84:\n",
    "    print(\"you are a senior\")\n",
    "else:\n",
    "    print(\"you are a ghost\")"
   ]
  },
  {
   "cell_type": "code",
   "execution_count": 4,
   "metadata": {},
   "outputs": [
    {
     "name": "stdout",
     "output_type": "stream",
     "text": [
      "year2019\n",
      "2019 is not a leap year\n"
     ]
    }
   ],
   "source": [
    "### A year is a leap year if it is divisible by 4, except that years divisible by 100 are not leap years unless they are also divisible by 400. Ask the user to enter a year, and, determine if it is a leap year or not\n",
    "\n",
    "y = int(input(\"year\")) \n",
    "if y % 4 == 0:\n",
    "    if y % 100 == 0 and y % 400 != 0:\n",
    "            print(y, \"is not a leap year\")\n",
    "    else:\n",
    "        print(y, \"is a leap year\")\n",
    "else:\n",
    "        print(y, \"is not a leap year\")"
   ]
  },
  {
   "cell_type": "code",
   "execution_count": null,
   "metadata": {},
   "outputs": [],
   "source": []
  },
  {
   "cell_type": "code",
   "execution_count": null,
   "metadata": {},
   "outputs": [],
   "source": []
  }
 ],
 "metadata": {
  "kernelspec": {
   "display_name": "Python 3",
   "language": "python",
   "name": "python3"
  },
  "language_info": {
   "codemirror_mode": {
    "name": "ipython",
    "version": 3
   },
   "file_extension": ".py",
   "mimetype": "text/x-python",
   "name": "python",
   "nbconvert_exporter": "python",
   "pygments_lexer": "ipython3",
   "version": "3.7.3"
  }
 },
 "nbformat": 4,
 "nbformat_minor": 2
}
